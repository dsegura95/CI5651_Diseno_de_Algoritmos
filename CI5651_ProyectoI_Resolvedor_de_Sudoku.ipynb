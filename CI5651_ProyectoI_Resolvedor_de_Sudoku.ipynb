{
  "nbformat": 4,
  "nbformat_minor": 0,
  "metadata": {
    "colab": {
      "name": "CI5651_ProyectoI_Resolvedor_de_Sudoku.ipynb",
      "provenance": [],
      "collapsed_sections": []
    },
    "kernelspec": {
      "name": "python3",
      "display_name": "Python 3"
    }
  },
  "cells": [
    {
      "cell_type": "code",
      "metadata": {
        "id": "ZTd-ILh_Zbu-",
        "colab_type": "code",
        "colab": {}
      },
      "source": [
        ""
      ],
      "execution_count": 52,
      "outputs": []
    },
    {
      "cell_type": "code",
      "metadata": {
        "id": "wSPe44YRbIVc",
        "colab_type": "code",
        "colab": {}
      },
      "source": [
        "# Montamos el drive para obtener los archivos \n",
        "# mnist_test.csv,   mnist_train.csv\n",
        "from google.colab import drive\n",
        "drive.mount('/content/drive')"
      ],
      "execution_count": null,
      "outputs": []
    },
    {
      "cell_type": "code",
      "metadata": {
        "id": "HM3Kub2Pt5S0",
        "colab_type": "code",
        "colab": {}
      },
      "source": [
        "def read_sudoku(string: str) -> [[int]]:\n",
        "  \"\"\" Dado un string con una codificacion de un sudoku, retorna una matriz que\n",
        "  representa dicho sudoku. \"\"\"\n",
        "  delimiter = string.index(\" \")\n",
        "  dim = int(string[:delimiter])\n",
        "  sudoku = [[0 for _ in range(dim**2)] for _ in range(dim**2)]\n",
        "  i, j = 0, 0\n",
        "  for x in string[delimiter+1:]:\n",
        "    sudoku[i][j] = x\n",
        "    i += int((j+1)/(dim**2))\n",
        "    j = (j+1)%(dim**2)\n",
        "  return sudoku\n",
        "\n",
        "def row_sudoku(sudoku: [[int]], row: int) -> [int]:\n",
        "  \"\"\" Retorna la row-esima fila del tablero de sudoku. \"\"\"\n",
        "  dim = int(len(sudoku)**(1/2))\n",
        "  row_array = [0 for _ in range(dim**2)]\n",
        "  i = dim*int(row/dim)\n",
        "  j = (dim*row)%(dim**2)\n",
        "  row %= dim\n",
        "  for k in range(dim**2):\n",
        "    row_array[k] = sudoku[i][j]\n",
        "    dif = int((j+1)/(dim*(row+1)))\n",
        "    i += dif\n",
        "    j = (j+1)%(dim*(row+1)) + dim*row*dif\n",
        "  return row_array\n",
        "\n",
        "def column_sudoku(sudoku: [[int]], column: int) -> [int]:\n",
        "  \"\"\" Retorna la column-esima columna del tablero de sudoku. \"\"\"\n",
        "  dim = int(len(sudoku)**(1/2))\n",
        "  column_array = [0 for _ in range(dim**2)]\n",
        "  i = int(column/dim)\n",
        "  j = column%dim\n",
        "  column %= dim\n",
        "  for k in range(dim**2):\n",
        "    column_array[k] = sudoku[i][j]\n",
        "    dif = int((j+dim)/(dim**2))\n",
        "    i += dim*dif\n",
        "    j = (j+dim)%(dim**2)\n",
        "  return column_array"
      ],
      "execution_count": null,
      "outputs": []
    },
    {
      "cell_type": "code",
      "metadata": {
        "id": "VYrRhXqLu1Ry",
        "colab_type": "code",
        "colab": {
          "base_uri": "https://localhost:8080/",
          "height": 71
        },
        "outputId": "3fbc68b9-c5cf-432e-e528-b2d3250121e3"
      },
      "source": [
        "text = \"3 000400009020980030093000840000000000200008067160300002049000650600003000000059010\"\n",
        "sudoku = read_sudoku(text)\n",
        "print(sudoku)\n",
        "row_sudoku(sudoku, 2)"
      ],
      "execution_count": null,
      "outputs": [
        {
          "output_type": "stream",
          "text": [
            "[['0', '0', '0', '4', '0', '0', '0', '0', '9'], ['0', '2', '0', '9', '8', '0', '0', '3', '0'], ['0', '9', '3', '0', '0', '0', '8', '4', '0'], ['0', '0', '0', '0', '0', '0', '0', '0', '0'], ['2', '0', '0', '0', '0', '8', '0', '6', '7'], ['1', '6', '0', '3', '0', '0', '0', '0', '2'], ['0', '4', '9', '0', '0', '0', '6', '5', '0'], ['6', '0', '0', '0', '0', '3', '0', '0', '0'], ['0', '0', '0', '0', '5', '9', '0', '1', '0']]\n"
          ],
          "name": "stdout"
        },
        {
          "output_type": "execute_result",
          "data": {
            "text/plain": [
              "['0', '0', '9', '0', '3', '0', '8', '4', '0']"
            ]
          },
          "metadata": {
            "tags": []
          },
          "execution_count": 50
        }
      ]
    },
    {
      "cell_type": "code",
      "metadata": {
        "id": "ttGGB37Az3Zd",
        "colab_type": "code",
        "colab": {
          "base_uri": "https://localhost:8080/",
          "height": 34
        },
        "outputId": "4e069dfc-e5ca-4e82-8ef0-7ce9d2a6797f"
      },
      "source": [
        "# SUDOKU\n",
        "000  020  093\n",
        "400  980  000\n",
        "009  030  840\n",
        "\n",
        "000  200  160\n",
        "000  008  300\n",
        "000  067  002\n",
        "\n",
        "049  600  000\n",
        "000  003  059\n",
        "650  000  010"
      ],
      "execution_count": null,
      "outputs": [
        {
          "output_type": "execute_result",
          "data": {
            "text/plain": [
              "0.875"
            ]
          },
          "metadata": {
            "tags": []
          },
          "execution_count": 19
        }
      ]
    },
    {
      "cell_type": "code",
      "metadata": {
        "id": "KHyRa0_C1mwf",
        "colab_type": "code",
        "colab": {}
      },
      "source": [
        ""
      ],
      "execution_count": null,
      "outputs": []
    }
  ]
}