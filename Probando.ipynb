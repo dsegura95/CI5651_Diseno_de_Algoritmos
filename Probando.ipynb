{
 "cells": [
  {
   "cell_type": "code",
   "execution_count": 7,
   "metadata": {},
   "outputs": [],
   "source": [
    "from laura_SAT import Variable"
   ]
  },
  {
   "cell_type": "code",
   "execution_count": 8,
   "metadata": {},
   "outputs": [
    {
     "output_type": "stream",
     "name": "stdout",
     "text": "Help on class Variable in module laura_SAT:\n\nclass Variable(builtins.object)\n |  Clase que representara la estructura de datos de las variables, donde almacenaremos\n |  las clausuras a las que pertenece la variable y su signo\n |  INIT:\n |    - sign:   signo de la variable que comienza sin asignar\n |    - closures: arreglo con las clausulas a la que pertenece la variable y el signo\n |                que tiene dentro de ella\n |  \n |  Methods defined here:\n |  \n |  __init__(self)\n |      Initialize self.  See help(type(self)) for accurate signature.\n |  \n |  add_closure(self, closure, sign)\n |      Metodo que agrega una clausura a la que pertenece la variable y el signo\n |      que tiene\n |      INPUT:\n |        - closure:  clausura a la que pertenece la variable\n |        - sign:     signo/s de la variable\n |  \n |  assign(self, sign)\n |      Metodo que asigna el signo a la variable\n |      INPUT:\n |        - sign: signo de la variable\n |  \n |  copy(self)\n |      Metodo que obtiene la copia de la clase\n |      OUTPUT:\n |        - v:   copia de la clausula\n |  \n |  get_assign(self)\n |      Metodo que retorna el signo de la variable\n |      OUTPUT:\n |        - sign: signo de la variable\n |  \n |  get_closures(self)\n |      Metodo que obtiene las clausuras a la que pertenece la variable\n |      OUTPUT:\n |        - closures:   clasuras a las que pertenece la variable\n |  \n |  ----------------------------------------------------------------------\n |  Data descriptors defined here:\n |  \n |  __dict__\n |      dictionary for instance variables (if defined)\n |  \n |  __weakref__\n |      list of weak references to the object (if defined)\n\n"
    }
   ],
   "source": [
    "help(Variable)"
   ]
  },
  {
   "cell_type": "code",
   "execution_count": 3,
   "metadata": {},
   "outputs": [],
   "source": [
    "V, C = read_SAT(text)"
   ]
  },
  {
   "cell_type": "code",
   "execution_count": 5,
   "metadata": {},
   "outputs": [
    {
     "output_type": "stream",
     "name": "stdout",
     "text": "[-1]\n[1]\n[1]\n[1]\n[-1, 1]\n[1, 1, 1]\n[1, -1, 1]\n[1, 1, -1, -1]\n"
    }
   ],
   "source": [
    "for c in C:\n",
    "    for cp in c:\n",
    "        print(cp.flags)"
   ]
  },
  {
   "cell_type": "code",
   "execution_count": null,
   "metadata": {},
   "outputs": [],
   "source": []
  }
 ],
 "metadata": {
  "language_info": {
   "codemirror_mode": {
    "name": "ipython",
    "version": 2
   },
   "file_extension": ".py",
   "mimetype": "text/x-python",
   "name": "python",
   "nbconvert_exporter": "python",
   "pygments_lexer": "ipython2",
   "version": "3.7.3-final"
  },
  "orig_nbformat": 2,
  "kernelspec": {
   "name": "python37364bit26cf26c7f11a43c89cca78a66ad83a1b",
   "display_name": "Python 3.7.3 64-bit"
  }
 },
 "nbformat": 4,
 "nbformat_minor": 2
}