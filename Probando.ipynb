{
 "cells": [
  {
   "cell_type": "code",
   "execution_count": 1,
   "metadata": {},
   "outputs": [],
   "source": [
    "from laura_SAT import read_SAT"
   ]
  },
  {
   "cell_type": "code",
   "execution_count": 2,
   "metadata": {},
   "outputs": [],
   "source": [
    "text = \"p cnf 10 8 \\n\\\n",
    "1 2 3 0 \\\n",
    "-4 0 \\\n",
    "-5 9 0 \\\n",
    "3 9 -2 -1 0 \\\n",
    "3 -4 1 0 \\\n",
    "1 0 \\\n",
    "2 0 \\\n",
    "3 0\""
   ]
  },
  {
   "cell_type": "code",
   "execution_count": 3,
   "metadata": {},
   "outputs": [],
   "source": [
    "V, C = read_SAT(text)"
   ]
  },
  {
   "cell_type": "code",
   "execution_count": 5,
   "metadata": {},
   "outputs": [
    {
     "output_type": "stream",
     "name": "stdout",
     "text": "[-1]\n[1]\n[1]\n[1]\n[-1, 1]\n[1, 1, 1]\n[1, -1, 1]\n[1, 1, -1, -1]\n"
    }
   ],
   "source": [
    "for c in C:\n",
    "    for cp in c:\n",
    "        print(cp.flags)"
   ]
  },
  {
   "cell_type": "code",
   "execution_count": null,
   "metadata": {},
   "outputs": [],
   "source": []
  }
 ],
 "metadata": {
  "language_info": {
   "codemirror_mode": {
    "name": "ipython",
    "version": 2
   },
   "file_extension": ".py",
   "mimetype": "text/x-python",
   "name": "python",
   "nbconvert_exporter": "python",
   "pygments_lexer": "ipython2",
   "version": "3.7.3-final"
  },
  "orig_nbformat": 2,
  "kernelspec": {
   "name": "python37364bit26cf26c7f11a43c89cca78a66ad83a1b",
   "display_name": "Python 3.7.3 64-bit"
  }
 },
 "nbformat": 4,
 "nbformat_minor": 2
}